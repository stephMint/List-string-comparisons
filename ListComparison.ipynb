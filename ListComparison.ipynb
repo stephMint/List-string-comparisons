{
 "cells": [
  {
   "cell_type": "markdown",
   "metadata": {},
   "source": [
    "# List Comparison\n",
    "* Compares two arrays for the most likley match\n",
    "* It then outputs the results into a dataframe"
   ]
  },
  {
   "cell_type": "code",
   "execution_count": 1,
   "metadata": {},
   "outputs": [],
   "source": [
    "# import packages\n",
    "import pandas as pd\n",
    "import difflib as dl"
   ]
  },
  {
   "cell_type": "markdown",
   "metadata": {},
   "source": [
    "* Read in the data and create two dataframes"
   ]
  },
  {
   "cell_type": "code",
   "execution_count": 2,
   "metadata": {},
   "outputs": [],
   "source": [
    "# filepath\n",
    "data_file = '/Users/stephenminter/Desktop/FruitSampleData.xlsx'\n",
    "\n",
    "#read in filepath and select base tab\n",
    "df_base = pd.read_excel(data_file, sheet_name= 'base')\n",
    "df_comparison = pd.read_excel(data_file, sheet_name= 'comparison')"
   ]
  },
  {
   "cell_type": "markdown",
   "metadata": {},
   "source": [
    "* adds a lower case column for each array, this is to make the search more accruate."
   ]
  },
  {
   "cell_type": "code",
   "execution_count": 3,
   "metadata": {},
   "outputs": [],
   "source": [
    "# add a new column for each dataframe, set as a lowercase version of the data\n",
    "df_base['lower_case'] = df_base.iloc[:, 0].str.lower()\n",
    "df_comparison['lower_case'] = df_comparison.iloc[:, 0].str.lower()"
   ]
  },
  {
   "cell_type": "markdown",
   "metadata": {},
   "source": [
    "* create a list from each lower case array, used in the for loop"
   ]
  },
  {
   "cell_type": "code",
   "execution_count": 4,
   "metadata": {},
   "outputs": [],
   "source": [
    "# turning into a list, this will be used for the comparison data\n",
    "list_base = df_base[df_base.columns[0]].to_list()\n",
    "list_base_lower = df_base['lower_case'].to_list()\n",
    "list_comparison = df_comparison['lower_case'].to_list()\n",
    "\n",
    "# remove duplicates from list_comparison\n",
    "list_comparison = list(dict.fromkeys(list_comparison))"
   ]
  },
  {
   "cell_type": "markdown",
   "metadata": {},
   "source": [
    "* for loop"
   ]
  },
  {
   "cell_type": "code",
   "execution_count": 5,
   "metadata": {},
   "outputs": [],
   "source": [
    "# create an empty list and for loop\n",
    "list_accumulation = []\n",
    "\n",
    "for word in list_base_lower:\n",
    "    matched_words = dl.get_close_matches(word,list_comparison, 3)\n",
    "    list_accumulation.append(matched_words)\n",
    "\n",
    "df = pd.DataFrame(list(zip(list_base, list_accumulation)))"
   ]
  },
  {
   "cell_type": "code",
   "execution_count": 6,
   "metadata": {},
   "outputs": [
    {
     "data": {
      "text/html": [
       "<div>\n",
       "<style scoped>\n",
       "    .dataframe tbody tr th:only-of-type {\n",
       "        vertical-align: middle;\n",
       "    }\n",
       "\n",
       "    .dataframe tbody tr th {\n",
       "        vertical-align: top;\n",
       "    }\n",
       "\n",
       "    .dataframe thead th {\n",
       "        text-align: right;\n",
       "    }\n",
       "</style>\n",
       "<table border=\"1\" class=\"dataframe\">\n",
       "  <thead>\n",
       "    <tr style=\"text-align: right;\">\n",
       "      <th></th>\n",
       "      <th>base</th>\n",
       "      <th>match_01</th>\n",
       "      <th>match_02</th>\n",
       "      <th>match_03</th>\n",
       "    </tr>\n",
       "  </thead>\n",
       "  <tbody>\n",
       "    <tr>\n",
       "      <th>0</th>\n",
       "      <td>Apple</td>\n",
       "      <td>apple</td>\n",
       "      <td>apple man</td>\n",
       "      <td>None</td>\n",
       "    </tr>\n",
       "    <tr>\n",
       "      <th>1</th>\n",
       "      <td>Orange</td>\n",
       "      <td>orange</td>\n",
       "      <td>None</td>\n",
       "      <td>None</td>\n",
       "    </tr>\n",
       "    <tr>\n",
       "      <th>2</th>\n",
       "      <td>Pear</td>\n",
       "      <td>pear</td>\n",
       "      <td>None</td>\n",
       "      <td>None</td>\n",
       "    </tr>\n",
       "    <tr>\n",
       "      <th>3</th>\n",
       "      <td>Banana</td>\n",
       "      <td>banana</td>\n",
       "      <td>None</td>\n",
       "      <td>None</td>\n",
       "    </tr>\n",
       "    <tr>\n",
       "      <th>4</th>\n",
       "      <td>StarFruit</td>\n",
       "      <td>starfruit</td>\n",
       "      <td>None</td>\n",
       "      <td>None</td>\n",
       "    </tr>\n",
       "    <tr>\n",
       "      <th>5</th>\n",
       "      <td>Plum</td>\n",
       "      <td>plum</td>\n",
       "      <td>None</td>\n",
       "      <td>None</td>\n",
       "    </tr>\n",
       "    <tr>\n",
       "      <th>6</th>\n",
       "      <td>StrawBerry</td>\n",
       "      <td>strawberry</td>\n",
       "      <td>raseberry</td>\n",
       "      <td>berry</td>\n",
       "    </tr>\n",
       "    <tr>\n",
       "      <th>7</th>\n",
       "      <td>RaseBerry</td>\n",
       "      <td>raseberry</td>\n",
       "      <td>strawberry</td>\n",
       "      <td>berry</td>\n",
       "    </tr>\n",
       "    <tr>\n",
       "      <th>8</th>\n",
       "      <td>AccesPay</td>\n",
       "      <td>accespa</td>\n",
       "      <td>acces</td>\n",
       "      <td>access</td>\n",
       "    </tr>\n",
       "  </tbody>\n",
       "</table>\n",
       "</div>"
      ],
      "text/plain": [
       "         base    match_01    match_02 match_03\n",
       "0       Apple       apple   apple man     None\n",
       "1      Orange      orange        None     None\n",
       "2        Pear        pear        None     None\n",
       "3      Banana      banana        None     None\n",
       "4   StarFruit   starfruit        None     None\n",
       "5        Plum        plum        None     None\n",
       "6  StrawBerry  strawberry   raseberry    berry\n",
       "7   RaseBerry   raseberry  strawberry    berry\n",
       "8    AccesPay     accespa       acces   access"
      ]
     },
     "execution_count": 6,
     "metadata": {},
     "output_type": "execute_result"
    }
   ],
   "source": [
    "#split_df = pd.DataFrame(df[1].to_list(), columns = ['match_01', 'match_02', 'match_03'])\n",
    "\n",
    "split_df = pd.DataFrame(df[1].to_list())\n",
    "df_output = pd.concat([df[0], split_df], axis=1)\n",
    "df_output.columns = ['base', 'match_01', 'match_02', 'match_03']\n",
    "df_output"
   ]
  }
 ],
 "metadata": {
  "interpreter": {
   "hash": "aee8b7b246df8f9039afb4144a1f6fd8d2ca17a180786b69acc140d282b71a49"
  },
  "kernelspec": {
   "display_name": "Python 3.9.5 64-bit",
   "language": "python",
   "name": "python3"
  },
  "language_info": {
   "codemirror_mode": {
    "name": "ipython",
    "version": 3
   },
   "file_extension": ".py",
   "mimetype": "text/x-python",
   "name": "python",
   "nbconvert_exporter": "python",
   "pygments_lexer": "ipython3",
   "version": "3.9.5"
  },
  "orig_nbformat": 4
 },
 "nbformat": 4,
 "nbformat_minor": 2
}
