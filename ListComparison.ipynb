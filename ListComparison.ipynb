{
 "cells": [
  {
   "cell_type": "markdown",
   "metadata": {},
   "source": [
    "# List Comparison\n",
    "---\n",
    "* Compares two arrays for the most likley match\n",
    "* It then outputs the results into a dataframe"
   ]
  },
  {
   "cell_type": "code",
   "execution_count": 80,
   "metadata": {},
   "outputs": [],
   "source": [
    "# import packages\n",
    "import pandas as pd\n",
    "import difflib as dl\n",
    "import re"
   ]
  },
  {
   "cell_type": "markdown",
   "metadata": {},
   "source": [
    "* Read in the data and create two dataframes"
   ]
  },
  {
   "cell_type": "code",
   "execution_count": 81,
   "metadata": {},
   "outputs": [],
   "source": [
    "# filepath\n",
    "data_file = '/Users/stephenminter/Desktop/FruitSampleData.xlsx'\n",
    "\n",
    "#read in filepath and select base tab\n",
    "df_base = pd.read_excel(data_file, sheet_name= 'base')\n",
    "df_comparison = pd.read_excel(data_file, sheet_name= 'comparison')"
   ]
  },
  {
   "cell_type": "markdown",
   "metadata": {},
   "source": [
    "* adds a lower case column for each array, this is to make the search more accruate."
   ]
  },
  {
   "cell_type": "code",
   "execution_count": 82,
   "metadata": {},
   "outputs": [],
   "source": [
    "# add a new column for each dataframe, set as a lowercase version of the data\n",
    "df_base['lower_case'] = df_base.iloc[:, 0].str.lower()\n",
    "df_comparison['lower_case'] = df_comparison.iloc[:, 0].str.lower()"
   ]
  },
  {
   "cell_type": "markdown",
   "metadata": {},
   "source": [
    "* create a list from each lower case array, used in the for loop"
   ]
  },
  {
   "cell_type": "code",
   "execution_count": 83,
   "metadata": {},
   "outputs": [
    {
     "data": {
      "text/plain": [
       "['apple',\n",
       " 'orange',\n",
       " 'pear',\n",
       " 'banana',\n",
       " 'starfruit',\n",
       " 'plum',\n",
       " 'strawberry',\n",
       " 'raseberry',\n",
       " 'apple man',\n",
       " 'acces',\n",
       " 'access',\n",
       " 'accespa',\n",
       " 'berry',\n",
       " 'stephen',\n",
       " 'steve']"
      ]
     },
     "execution_count": 83,
     "metadata": {},
     "output_type": "execute_result"
    }
   ],
   "source": [
    "# turning into a list, this will be used for the comparison data\n",
    "list_base = df_base[df_base.columns[0]].to_list()\n",
    "list_base_lower = df_base['lower_case'].to_list()\n",
    "list_comparison = df_comparison['lower_case'].to_list()\n",
    "\n",
    "# remove duplicates from list_comparison\n",
    "list_comparison = list(dict.fromkeys(list_comparison))\n",
    "list_comparison"
   ]
  },
  {
   "cell_type": "markdown",
   "metadata": {},
   "source": [
    "* for loop"
   ]
  },
  {
   "cell_type": "code",
   "execution_count": 84,
   "metadata": {},
   "outputs": [
    {
     "data": {
      "text/html": [
       "<div>\n",
       "<style scoped>\n",
       "    .dataframe tbody tr th:only-of-type {\n",
       "        vertical-align: middle;\n",
       "    }\n",
       "\n",
       "    .dataframe tbody tr th {\n",
       "        vertical-align: top;\n",
       "    }\n",
       "\n",
       "    .dataframe thead th {\n",
       "        text-align: right;\n",
       "    }\n",
       "</style>\n",
       "<table border=\"1\" class=\"dataframe\">\n",
       "  <thead>\n",
       "    <tr style=\"text-align: right;\">\n",
       "      <th></th>\n",
       "      <th>0</th>\n",
       "      <th>1</th>\n",
       "    </tr>\n",
       "  </thead>\n",
       "  <tbody>\n",
       "    <tr>\n",
       "      <th>0</th>\n",
       "      <td>Apple</td>\n",
       "      <td>[apple, apple man]</td>\n",
       "    </tr>\n",
       "    <tr>\n",
       "      <th>1</th>\n",
       "      <td>Orange</td>\n",
       "      <td>[orange]</td>\n",
       "    </tr>\n",
       "    <tr>\n",
       "      <th>2</th>\n",
       "      <td>Pear</td>\n",
       "      <td>[pear]</td>\n",
       "    </tr>\n",
       "    <tr>\n",
       "      <th>3</th>\n",
       "      <td>Banana</td>\n",
       "      <td>[banana]</td>\n",
       "    </tr>\n",
       "    <tr>\n",
       "      <th>4</th>\n",
       "      <td>StarFruit</td>\n",
       "      <td>[starfruit]</td>\n",
       "    </tr>\n",
       "    <tr>\n",
       "      <th>5</th>\n",
       "      <td>Plum</td>\n",
       "      <td>[plum]</td>\n",
       "    </tr>\n",
       "    <tr>\n",
       "      <th>6</th>\n",
       "      <td>StrawBerry</td>\n",
       "      <td>[strawberry, raseberry, berry]</td>\n",
       "    </tr>\n",
       "    <tr>\n",
       "      <th>7</th>\n",
       "      <td>RaseBerry</td>\n",
       "      <td>[raseberry, strawberry, berry]</td>\n",
       "    </tr>\n",
       "    <tr>\n",
       "      <th>8</th>\n",
       "      <td>AccesPayBkaBla</td>\n",
       "      <td>[accespa]</td>\n",
       "    </tr>\n",
       "    <tr>\n",
       "      <th>9</th>\n",
       "      <td>stephen minter</td>\n",
       "      <td>[stephen]</td>\n",
       "    </tr>\n",
       "  </tbody>\n",
       "</table>\n",
       "</div>"
      ],
      "text/plain": [
       "                0                               1\n",
       "0           Apple              [apple, apple man]\n",
       "1          Orange                        [orange]\n",
       "2            Pear                          [pear]\n",
       "3          Banana                        [banana]\n",
       "4       StarFruit                     [starfruit]\n",
       "5            Plum                          [plum]\n",
       "6      StrawBerry  [strawberry, raseberry, berry]\n",
       "7       RaseBerry  [raseberry, strawberry, berry]\n",
       "8  AccesPayBkaBla                       [accespa]\n",
       "9  stephen minter                       [stephen]"
      ]
     },
     "execution_count": 84,
     "metadata": {},
     "output_type": "execute_result"
    }
   ],
   "source": [
    "# create an empty list and for loop\n",
    "list_accumulation = []\n",
    "\n",
    "for word in list_base_lower:\n",
    "    matched_words = dl.get_close_matches(word,list_comparison, 3)\n",
    "    list_accumulation.append(matched_words)\n",
    "\n",
    "df = pd.DataFrame(list(zip(list_base, list_accumulation)))\n",
    "df"
   ]
  },
  {
   "cell_type": "code",
   "execution_count": 85,
   "metadata": {},
   "outputs": [
    {
     "data": {
      "text/html": [
       "<div>\n",
       "<style scoped>\n",
       "    .dataframe tbody tr th:only-of-type {\n",
       "        vertical-align: middle;\n",
       "    }\n",
       "\n",
       "    .dataframe tbody tr th {\n",
       "        vertical-align: top;\n",
       "    }\n",
       "\n",
       "    .dataframe thead th {\n",
       "        text-align: right;\n",
       "    }\n",
       "</style>\n",
       "<table border=\"1\" class=\"dataframe\">\n",
       "  <thead>\n",
       "    <tr style=\"text-align: right;\">\n",
       "      <th></th>\n",
       "      <th>base</th>\n",
       "      <th>match_01</th>\n",
       "      <th>match_02</th>\n",
       "      <th>match_03</th>\n",
       "    </tr>\n",
       "  </thead>\n",
       "  <tbody>\n",
       "    <tr>\n",
       "      <th>0</th>\n",
       "      <td>Apple</td>\n",
       "      <td>apple</td>\n",
       "      <td>apple man</td>\n",
       "      <td>None</td>\n",
       "    </tr>\n",
       "    <tr>\n",
       "      <th>1</th>\n",
       "      <td>Orange</td>\n",
       "      <td>orange</td>\n",
       "      <td>None</td>\n",
       "      <td>None</td>\n",
       "    </tr>\n",
       "    <tr>\n",
       "      <th>2</th>\n",
       "      <td>Pear</td>\n",
       "      <td>pear</td>\n",
       "      <td>None</td>\n",
       "      <td>None</td>\n",
       "    </tr>\n",
       "    <tr>\n",
       "      <th>3</th>\n",
       "      <td>Banana</td>\n",
       "      <td>banana</td>\n",
       "      <td>None</td>\n",
       "      <td>None</td>\n",
       "    </tr>\n",
       "    <tr>\n",
       "      <th>4</th>\n",
       "      <td>StarFruit</td>\n",
       "      <td>starfruit</td>\n",
       "      <td>None</td>\n",
       "      <td>None</td>\n",
       "    </tr>\n",
       "    <tr>\n",
       "      <th>5</th>\n",
       "      <td>Plum</td>\n",
       "      <td>plum</td>\n",
       "      <td>None</td>\n",
       "      <td>None</td>\n",
       "    </tr>\n",
       "    <tr>\n",
       "      <th>6</th>\n",
       "      <td>StrawBerry</td>\n",
       "      <td>strawberry</td>\n",
       "      <td>raseberry</td>\n",
       "      <td>berry</td>\n",
       "    </tr>\n",
       "    <tr>\n",
       "      <th>7</th>\n",
       "      <td>RaseBerry</td>\n",
       "      <td>raseberry</td>\n",
       "      <td>strawberry</td>\n",
       "      <td>berry</td>\n",
       "    </tr>\n",
       "    <tr>\n",
       "      <th>8</th>\n",
       "      <td>AccesPayBkaBla</td>\n",
       "      <td>accespa</td>\n",
       "      <td>None</td>\n",
       "      <td>None</td>\n",
       "    </tr>\n",
       "    <tr>\n",
       "      <th>9</th>\n",
       "      <td>stephen minter</td>\n",
       "      <td>stephen</td>\n",
       "      <td>None</td>\n",
       "      <td>None</td>\n",
       "    </tr>\n",
       "  </tbody>\n",
       "</table>\n",
       "</div>"
      ],
      "text/plain": [
       "             base    match_01    match_02 match_03\n",
       "0           Apple       apple   apple man     None\n",
       "1          Orange      orange        None     None\n",
       "2            Pear        pear        None     None\n",
       "3          Banana      banana        None     None\n",
       "4       StarFruit   starfruit        None     None\n",
       "5            Plum        plum        None     None\n",
       "6      StrawBerry  strawberry   raseberry    berry\n",
       "7       RaseBerry   raseberry  strawberry    berry\n",
       "8  AccesPayBkaBla     accespa        None     None\n",
       "9  stephen minter     stephen        None     None"
      ]
     },
     "execution_count": 85,
     "metadata": {},
     "output_type": "execute_result"
    }
   ],
   "source": [
    "#split_df = pd.DataFrame(df[1].to_list(), columns = ['match_01', 'match_02', 'match_03'])\n",
    "\n",
    "# split the list into new columns\n",
    "split_df = pd.DataFrame(df[1].to_list())\n",
    "# concat both dataframes\n",
    "df_output = pd.concat([df[0], split_df], axis=1)\n",
    "# rename dataframes\n",
    "df_output.columns = ['base', 'match_01', 'match_02', 'match_03']\n",
    "df_output"
   ]
  },
  {
   "cell_type": "markdown",
   "metadata": {},
   "source": [
    "* create a function to apply sequence matcher over two columns"
   ]
  },
  {
   "cell_type": "code",
   "execution_count": 86,
   "metadata": {},
   "outputs": [],
   "source": [
    "def apply_sm(s, c1, c2): \n",
    "    return dl.SequenceMatcher(None, s[c1], s[c2]).ratio()"
   ]
  },
  {
   "cell_type": "markdown",
   "metadata": {},
   "source": [
    "* need to compare against a lowercase base"
   ]
  },
  {
   "cell_type": "code",
   "execution_count": 87,
   "metadata": {},
   "outputs": [],
   "source": [
    "df_output['base_lower'] = df_output['base'].str.lower()\n",
    "df_output = df_output[['base', 'base_lower', 'match_01', 'match_02', 'match_03']]\n",
    "df_output.fillna(\"\", inplace= True)"
   ]
  },
  {
   "cell_type": "markdown",
   "metadata": {},
   "source": [
    "* add percentage likness for each column"
   ]
  },
  {
   "cell_type": "code",
   "execution_count": 88,
   "metadata": {},
   "outputs": [
    {
     "data": {
      "text/html": [
       "<div>\n",
       "<style scoped>\n",
       "    .dataframe tbody tr th:only-of-type {\n",
       "        vertical-align: middle;\n",
       "    }\n",
       "\n",
       "    .dataframe tbody tr th {\n",
       "        vertical-align: top;\n",
       "    }\n",
       "\n",
       "    .dataframe thead th {\n",
       "        text-align: right;\n",
       "    }\n",
       "</style>\n",
       "<table border=\"1\" class=\"dataframe\">\n",
       "  <thead>\n",
       "    <tr style=\"text-align: right;\">\n",
       "      <th></th>\n",
       "      <th>base</th>\n",
       "      <th>match_01</th>\n",
       "      <th>match_02</th>\n",
       "      <th>match_03</th>\n",
       "      <th>match_01_perc</th>\n",
       "      <th>match_02_perc</th>\n",
       "      <th>match_03_perc</th>\n",
       "    </tr>\n",
       "  </thead>\n",
       "  <tbody>\n",
       "    <tr>\n",
       "      <th>0</th>\n",
       "      <td>Apple</td>\n",
       "      <td>apple</td>\n",
       "      <td>apple man</td>\n",
       "      <td></td>\n",
       "      <td>1.000</td>\n",
       "      <td>0.714</td>\n",
       "      <td>0.000</td>\n",
       "    </tr>\n",
       "    <tr>\n",
       "      <th>1</th>\n",
       "      <td>Orange</td>\n",
       "      <td>orange</td>\n",
       "      <td></td>\n",
       "      <td></td>\n",
       "      <td>1.000</td>\n",
       "      <td>0.000</td>\n",
       "      <td>0.000</td>\n",
       "    </tr>\n",
       "    <tr>\n",
       "      <th>2</th>\n",
       "      <td>Pear</td>\n",
       "      <td>pear</td>\n",
       "      <td></td>\n",
       "      <td></td>\n",
       "      <td>1.000</td>\n",
       "      <td>0.000</td>\n",
       "      <td>0.000</td>\n",
       "    </tr>\n",
       "    <tr>\n",
       "      <th>3</th>\n",
       "      <td>Banana</td>\n",
       "      <td>banana</td>\n",
       "      <td></td>\n",
       "      <td></td>\n",
       "      <td>1.000</td>\n",
       "      <td>0.000</td>\n",
       "      <td>0.000</td>\n",
       "    </tr>\n",
       "    <tr>\n",
       "      <th>4</th>\n",
       "      <td>StarFruit</td>\n",
       "      <td>starfruit</td>\n",
       "      <td></td>\n",
       "      <td></td>\n",
       "      <td>1.000</td>\n",
       "      <td>0.000</td>\n",
       "      <td>0.000</td>\n",
       "    </tr>\n",
       "    <tr>\n",
       "      <th>5</th>\n",
       "      <td>Plum</td>\n",
       "      <td>plum</td>\n",
       "      <td></td>\n",
       "      <td></td>\n",
       "      <td>1.000</td>\n",
       "      <td>0.000</td>\n",
       "      <td>0.000</td>\n",
       "    </tr>\n",
       "    <tr>\n",
       "      <th>6</th>\n",
       "      <td>StrawBerry</td>\n",
       "      <td>strawberry</td>\n",
       "      <td>raseberry</td>\n",
       "      <td>berry</td>\n",
       "      <td>1.000</td>\n",
       "      <td>0.737</td>\n",
       "      <td>0.667</td>\n",
       "    </tr>\n",
       "    <tr>\n",
       "      <th>7</th>\n",
       "      <td>RaseBerry</td>\n",
       "      <td>raseberry</td>\n",
       "      <td>strawberry</td>\n",
       "      <td>berry</td>\n",
       "      <td>1.000</td>\n",
       "      <td>0.737</td>\n",
       "      <td>0.714</td>\n",
       "    </tr>\n",
       "    <tr>\n",
       "      <th>8</th>\n",
       "      <td>AccesPayBkaBla</td>\n",
       "      <td>accespa</td>\n",
       "      <td></td>\n",
       "      <td></td>\n",
       "      <td>0.667</td>\n",
       "      <td>0.000</td>\n",
       "      <td>0.000</td>\n",
       "    </tr>\n",
       "    <tr>\n",
       "      <th>9</th>\n",
       "      <td>stephen minter</td>\n",
       "      <td>stephen</td>\n",
       "      <td></td>\n",
       "      <td></td>\n",
       "      <td>0.667</td>\n",
       "      <td>0.000</td>\n",
       "      <td>0.000</td>\n",
       "    </tr>\n",
       "  </tbody>\n",
       "</table>\n",
       "</div>"
      ],
      "text/plain": [
       "             base    match_01    match_02 match_03  match_01_perc  \\\n",
       "0           Apple       apple   apple man                   1.000   \n",
       "1          Orange      orange                               1.000   \n",
       "2            Pear        pear                               1.000   \n",
       "3          Banana      banana                               1.000   \n",
       "4       StarFruit   starfruit                               1.000   \n",
       "5            Plum        plum                               1.000   \n",
       "6      StrawBerry  strawberry   raseberry    berry          1.000   \n",
       "7       RaseBerry   raseberry  strawberry    berry          1.000   \n",
       "8  AccesPayBkaBla     accespa                               0.667   \n",
       "9  stephen minter     stephen                               0.667   \n",
       "\n",
       "   match_02_perc  match_03_perc  \n",
       "0          0.714          0.000  \n",
       "1          0.000          0.000  \n",
       "2          0.000          0.000  \n",
       "3          0.000          0.000  \n",
       "4          0.000          0.000  \n",
       "5          0.000          0.000  \n",
       "6          0.737          0.667  \n",
       "7          0.737          0.714  \n",
       "8          0.000          0.000  \n",
       "9          0.000          0.000  "
      ]
     },
     "execution_count": 88,
     "metadata": {},
     "output_type": "execute_result"
    }
   ],
   "source": [
    "df_output['match_01_perc'] = df_output.apply(apply_sm, c1='base_lower', c2='match_01', axis=1).round(3)\n",
    "df_output['match_02_perc'] = df_output.apply(apply_sm, c1='base_lower', c2='match_02', axis=1).round(3)\n",
    "df_output['match_03_perc'] = df_output.apply(apply_sm, c1='base_lower', c2='match_03', axis=1).round(3)\n",
    "df_output.drop(columns= 'base_lower', inplace= True)\n",
    "df_output"
   ]
  },
  {
   "cell_type": "markdown",
   "metadata": {},
   "source": [
    "Function using re to find a word in a string"
   ]
  },
  {
   "cell_type": "code",
   "execution_count": 89,
   "metadata": {},
   "outputs": [],
   "source": [
    "def word_list_checker(word, string_search):\n",
    "    try:\n",
    "        result = re.search(word, string_search, re.IGNORECASE).group()\n",
    "    except:\n",
    "        pass\n",
    "    finally:\n",
    "        return result"
   ]
  },
  {
   "cell_type": "code",
   "execution_count": 90,
   "metadata": {},
   "outputs": [
    {
     "data": {
      "text/html": [
       "<div>\n",
       "<style scoped>\n",
       "    .dataframe tbody tr th:only-of-type {\n",
       "        vertical-align: middle;\n",
       "    }\n",
       "\n",
       "    .dataframe tbody tr th {\n",
       "        vertical-align: top;\n",
       "    }\n",
       "\n",
       "    .dataframe thead th {\n",
       "        text-align: right;\n",
       "    }\n",
       "</style>\n",
       "<table border=\"1\" class=\"dataframe\">\n",
       "  <thead>\n",
       "    <tr style=\"text-align: right;\">\n",
       "      <th></th>\n",
       "      <th>Samples</th>\n",
       "    </tr>\n",
       "  </thead>\n",
       "  <tbody>\n",
       "    <tr>\n",
       "      <th>0</th>\n",
       "      <td>this is licence year</td>\n",
       "    </tr>\n",
       "    <tr>\n",
       "      <th>1</th>\n",
       "      <td>license fee maintainence</td>\n",
       "    </tr>\n",
       "    <tr>\n",
       "      <th>2</th>\n",
       "      <td>fee hello may name is maintain</td>\n",
       "    </tr>\n",
       "    <tr>\n",
       "      <th>3</th>\n",
       "      <td>notthin in this one</td>\n",
       "    </tr>\n",
       "    <tr>\n",
       "      <th>4</th>\n",
       "      <td>this is a 5 year license</td>\n",
       "    </tr>\n",
       "  </tbody>\n",
       "</table>\n",
       "</div>"
      ],
      "text/plain": [
       "                          Samples\n",
       "0            this is licence year\n",
       "1        license fee maintainence\n",
       "2  fee hello may name is maintain\n",
       "3             notthin in this one\n",
       "4        this is a 5 year license"
      ]
     },
     "execution_count": 90,
     "metadata": {},
     "output_type": "execute_result"
    }
   ],
   "source": [
    "# filepath\n",
    "data_file = '/Users/stephenminter/Desktop/strings.xlsx'\n",
    "\n",
    "#read in filepath and select base tab\n",
    "df_string = pd.read_excel(data_file, sheet_name= 'strings')\n",
    "df_string"
   ]
  },
  {
   "cell_type": "markdown",
   "metadata": {},
   "source": [
    "lambda to turn each row string into a list"
   ]
  },
  {
   "cell_type": "code",
   "execution_count": 91,
   "metadata": {},
   "outputs": [
    {
     "data": {
      "text/html": [
       "<div>\n",
       "<style scoped>\n",
       "    .dataframe tbody tr th:only-of-type {\n",
       "        vertical-align: middle;\n",
       "    }\n",
       "\n",
       "    .dataframe tbody tr th {\n",
       "        vertical-align: top;\n",
       "    }\n",
       "\n",
       "    .dataframe thead th {\n",
       "        text-align: right;\n",
       "    }\n",
       "</style>\n",
       "<table border=\"1\" class=\"dataframe\">\n",
       "  <thead>\n",
       "    <tr style=\"text-align: right;\">\n",
       "      <th></th>\n",
       "      <th>Samples</th>\n",
       "      <th>string_split</th>\n",
       "    </tr>\n",
       "  </thead>\n",
       "  <tbody>\n",
       "    <tr>\n",
       "      <th>0</th>\n",
       "      <td>this is licence year</td>\n",
       "      <td>[this, is, licence, year]</td>\n",
       "    </tr>\n",
       "    <tr>\n",
       "      <th>1</th>\n",
       "      <td>license fee maintainence</td>\n",
       "      <td>[license, fee, maintainence]</td>\n",
       "    </tr>\n",
       "    <tr>\n",
       "      <th>2</th>\n",
       "      <td>fee hello may name is maintain</td>\n",
       "      <td>[fee, hello, may, name, is, maintain]</td>\n",
       "    </tr>\n",
       "    <tr>\n",
       "      <th>3</th>\n",
       "      <td>notthin in this one</td>\n",
       "      <td>[notthin, in, this, one]</td>\n",
       "    </tr>\n",
       "    <tr>\n",
       "      <th>4</th>\n",
       "      <td>this is a 5 year license</td>\n",
       "      <td>[this, is, a, 5, year, license]</td>\n",
       "    </tr>\n",
       "  </tbody>\n",
       "</table>\n",
       "</div>"
      ],
      "text/plain": [
       "                          Samples                           string_split\n",
       "0            this is licence year              [this, is, licence, year]\n",
       "1        license fee maintainence           [license, fee, maintainence]\n",
       "2  fee hello may name is maintain  [fee, hello, may, name, is, maintain]\n",
       "3             notthin in this one               [notthin, in, this, one]\n",
       "4        this is a 5 year license        [this, is, a, 5, year, license]"
      ]
     },
     "execution_count": 91,
     "metadata": {},
     "output_type": "execute_result"
    }
   ],
   "source": [
    "string_splitter = lambda x: x.split(' ')\n",
    "df_string['string_split'] = df_string['Samples'].apply(string_splitter)\n",
    "df_string"
   ]
  },
  {
   "cell_type": "code",
   "execution_count": 109,
   "metadata": {},
   "outputs": [],
   "source": [
    "search_words = ['license', 'fee', 'maintainence']"
   ]
  },
  {
   "cell_type": "code",
   "execution_count": 111,
   "metadata": {},
   "outputs": [
    {
     "data": {
      "text/plain": [
       "[['this', 'is', 'licence', 'year'],\n",
       " ['license', 'fee', 'maintainence'],\n",
       " ['fee', 'hello', 'may', 'name', 'is', 'maintain'],\n",
       " ['notthin', 'in', 'this', 'one'],\n",
       " ['this', 'is', 'a', '5', 'year', 'license']]"
      ]
     },
     "execution_count": 111,
     "metadata": {},
     "output_type": "execute_result"
    }
   ],
   "source": [
    "df_ls = df_string['string_split'].tolist()\n",
    "df_ls"
   ]
  },
  {
   "cell_type": "markdown",
   "metadata": {},
   "source": [
    "need to ingore case"
   ]
  },
  {
   "cell_type": "code",
   "execution_count": 132,
   "metadata": {},
   "outputs": [
    {
     "data": {
      "text/plain": [
       "[['license'], ['fee'], ['maintainence']]"
      ]
     },
     "execution_count": 132,
     "metadata": {},
     "output_type": "execute_result"
    }
   ],
   "source": [
    "ls = []\n",
    "for word in df_ls[1]:\n",
    "    mws = dl.get_close_matches(word, search_words,3)\n",
    "    ls.append(mws)\n",
    "ls"
   ]
  },
  {
   "cell_type": "code",
   "execution_count": null,
   "metadata": {},
   "outputs": [],
   "source": []
  },
  {
   "cell_type": "code",
   "execution_count": null,
   "metadata": {},
   "outputs": [],
   "source": []
  }
 ],
 "metadata": {
  "interpreter": {
   "hash": "aee8b7b246df8f9039afb4144a1f6fd8d2ca17a180786b69acc140d282b71a49"
  },
  "kernelspec": {
   "display_name": "Python 3.9.5 64-bit",
   "language": "python",
   "name": "python3"
  },
  "language_info": {
   "codemirror_mode": {
    "name": "ipython",
    "version": 3
   },
   "file_extension": ".py",
   "mimetype": "text/x-python",
   "name": "python",
   "nbconvert_exporter": "python",
   "pygments_lexer": "ipython3",
   "version": "3.9.5"
  },
  "orig_nbformat": 4
 },
 "nbformat": 4,
 "nbformat_minor": 2
}
